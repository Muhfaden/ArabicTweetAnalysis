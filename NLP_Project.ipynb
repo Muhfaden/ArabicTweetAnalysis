{
  "nbformat": 4,
  "nbformat_minor": 0,
  "metadata": {
    "colab": {
      "provenance": []
    },
    "kernelspec": {
      "name": "python3",
      "display_name": "Python 3"
    },
    "language_info": {
      "name": "python"
    }
  },
  "cells": [
    {
      "cell_type": "code",
      "execution_count": 1,
      "metadata": {
        "id": "x-aT-g7jsJRM"
      },
      "outputs": [],
      "source": [
        "import pandas as pd\n",
        "import re\n",
        "from sklearn.model_selection import train_test_split, cross_val_score\n",
        "from sklearn.feature_extraction.text import CountVectorizer, TfidfVectorizer\n",
        "from sklearn.naive_bayes import MultinomialNB\n",
        "from sklearn.metrics import classification_report, accuracy_score"
      ]
    },
    {
      "cell_type": "code",
      "source": [
        "df = pd.read_csv('/content/tweets.csv')\n",
        "print(df.head())"
      ],
      "metadata": {
        "colab": {
          "base_uri": "https://localhost:8080/"
        },
        "id": "ETtVAXwwsXXm",
        "outputId": "c4761ee8-c845-435c-c77a-6fcfc32c08e4"
      },
      "execution_count": 2,
      "outputs": [
        {
          "output_type": "stream",
          "name": "stdout",
          "text": [
            "                                             Column1  Column2\n",
            "0  بعد استقالة رئيس #المحكمة_الدستورية ننتظر استق...      OBJ\n",
            "1  أهنئ الدكتور أحمد جمال الدين، القيادي بحزب مصر...      POS\n",
            "2  البرادعي يستقوى بامريكا مرةاخرى و يرسل عصام ال...      NEG\n",
            "3  #الحرية_والعدالة | شاهد الآن: #ليلة_الاتحادية ...      OBJ\n",
            "4  الوالدة لو اقولها بخاطري حشيشة تضحك بس من اقول...  NEUTRAL\n"
          ]
        }
      ]
    },
    {
      "cell_type": "code",
      "source": [
        "def preprocess_tweet(tweet):\n",
        "    tweet = re.sub(r'http\\S+', '', tweet)  # Remove URLs\n",
        "    tweet = re.sub(r'@\\w+', '', tweet)  # Remove mentions\n",
        "    tweet = re.sub(r'#\\w+', '', tweet)  # Remove hashtags\n",
        "    tweet = re.sub(r'\\d+', '', tweet)  # Remove digits\n",
        "    tweet = re.sub(r'\\W+', ' ', tweet)  # Remove non-word characters\n",
        "    return tweet\n",
        "\n",
        "df['cleaned_tweet'] = df['Column1'].apply(preprocess_tweet)\n",
        "print(df.head())"
      ],
      "metadata": {
        "colab": {
          "base_uri": "https://localhost:8080/"
        },
        "id": "yqrPo1kYseOV",
        "outputId": "f6ff1ee0-ccc4-43f1-e309-f849322e74f2"
      },
      "execution_count": 3,
      "outputs": [
        {
          "output_type": "stream",
          "name": "stdout",
          "text": [
            "                                             Column1  Column2  \\\n",
            "0  بعد استقالة رئيس #المحكمة_الدستورية ننتظر استق...      OBJ   \n",
            "1  أهنئ الدكتور أحمد جمال الدين، القيادي بحزب مصر...      POS   \n",
            "2  البرادعي يستقوى بامريكا مرةاخرى و يرسل عصام ال...      NEG   \n",
            "3  #الحرية_والعدالة | شاهد الآن: #ليلة_الاتحادية ...      OBJ   \n",
            "4  الوالدة لو اقولها بخاطري حشيشة تضحك بس من اقول...  NEUTRAL   \n",
            "\n",
            "                                       cleaned_tweet  \n",
            "0                    بعد استقالة رئيس ننتظر استقالة   \n",
            "1  أهنئ الدكتور أحمد جمال الدين القيادي بحزب مصر ...  \n",
            "2  البرادعي يستقوى بامريكا مرةاخرى و يرسل عصام ال...  \n",
            "3   شاهد الآن أول فيلم استقصائي يتناول أسرار و كو...  \n",
            "4  الوالدة لو اقولها بخاطري حشيشة تضحك بس من اقول...  \n"
          ]
        }
      ]
    },
    {
      "cell_type": "code",
      "source": [
        "X_train, X_test, y_train, y_test = train_test_split(df['cleaned_tweet'], df['Column2'], test_size=0.2, random_state=42)"
      ],
      "metadata": {
        "id": "-lRNhUsqsfjI"
      },
      "execution_count": 5,
      "outputs": []
    },
    {
      "cell_type": "code",
      "source": [
        "# Count Vectorizer\n",
        "vectorizer = CountVectorizer()\n",
        "X_train_vectorized = vectorizer.fit_transform(X_train)\n",
        "X_test_vectorized = vectorizer.transform(X_test)"
      ],
      "metadata": {
        "id": "qlQUqUPnsht_"
      },
      "execution_count": 6,
      "outputs": []
    },
    {
      "cell_type": "markdown",
      "source": [
        "##ML-BASED"
      ],
      "metadata": {
        "id": "I2uyGSqzwlUg"
      }
    },
    {
      "cell_type": "code",
      "source": [
        "# Multinomial Naive Bayes Classifier\n",
        "nb_classifier = MultinomialNB()\n",
        "nb_classifier.fit(X_train_vectorized, y_train)\n",
        "y_pred = nb_classifier.predict(X_test_vectorized)"
      ],
      "metadata": {
        "id": "s-RDEKmtsneJ"
      },
      "execution_count": 8,
      "outputs": []
    },
    {
      "cell_type": "code",
      "source": [
        "# Results\n",
        "print(\"Classification Report (ML-based):\")\n",
        "print(classification_report(y_test, y_pred))\n",
        "print(\"Accuracy Score (ML-based):\")\n",
        "print(accuracy_score(y_test, y_pred))"
      ],
      "metadata": {
        "colab": {
          "base_uri": "https://localhost:8080/"
        },
        "id": "Q3VumMV-soDP",
        "outputId": "5a3fb58e-d5b5-40f5-991f-a0ce735ff5d9"
      },
      "execution_count": 9,
      "outputs": [
        {
          "output_type": "stream",
          "name": "stdout",
          "text": [
            "Classification Report (ML-based):\n",
            "              precision    recall  f1-score   support\n",
            "\n",
            "         NEG       0.51      0.19      0.28       333\n",
            "     NEUTRAL       0.35      0.04      0.06       170\n",
            "         OBJ       0.69      0.96      0.80      1276\n",
            "         POS       0.27      0.02      0.04       160\n",
            "\n",
            "    accuracy                           0.67      1939\n",
            "   macro avg       0.46      0.30      0.29      1939\n",
            "weighted avg       0.59      0.67      0.58      1939\n",
            "\n",
            "Accuracy Score (ML-based):\n",
            "0.6689014956162971\n"
          ]
        }
      ]
    },
    {
      "cell_type": "code",
      "source": [
        "# Count Vectorizer with N-grams\n",
        "vectorizer = CountVectorizer(ngram_range=(1, 4))\n",
        "X_train_vectorized = vectorizer.fit_transform(X_train)\n",
        "X_test_vectorized = vectorizer.transform(X_test)\n",
        "nb_classifier.fit(X_train_vectorized, y_train)\n",
        "y_pred = nb_classifier.predict(X_test_vectorized)\n",
        "\n",
        "print(\"Classification Report (ML-based with n-grams):\")\n",
        "print(classification_report(y_test, y_pred))\n",
        "print(\"Accuracy Score (ML-based with n-grams):\")\n",
        "print(accuracy_score(y_test, y_pred))"
      ],
      "metadata": {
        "colab": {
          "base_uri": "https://localhost:8080/"
        },
        "id": "4Zx3U-VtsoPn",
        "outputId": "f25cdfe6-22a0-4e3e-b310-36db0460617a"
      },
      "execution_count": 10,
      "outputs": [
        {
          "output_type": "stream",
          "name": "stdout",
          "text": [
            "Classification Report (ML-based with n-grams):\n",
            "              precision    recall  f1-score   support\n",
            "\n",
            "         NEG       0.63      0.11      0.19       333\n",
            "     NEUTRAL       0.33      0.02      0.03       170\n",
            "         OBJ       0.67      0.98      0.80      1276\n",
            "         POS       0.38      0.02      0.04       160\n",
            "\n",
            "    accuracy                           0.67      1939\n",
            "   macro avg       0.50      0.28      0.26      1939\n",
            "weighted avg       0.61      0.67      0.56      1939\n",
            "\n",
            "Accuracy Score (ML-based with n-grams):\n",
            "0.669417225373904\n"
          ]
        }
      ]
    },
    {
      "cell_type": "code",
      "source": [
        "# TF-IDF Vectorizer with Trigrams\n",
        "vectorizer = TfidfVectorizer(ngram_range=(1, 3), max_features=5000)\n",
        "X_train_vectorized = vectorizer.fit_transform(X_train)\n",
        "X_test_vectorized = vectorizer.transform(X_test)\n",
        "nb_classifier = MultinomialNB(alpha=0.1)\n",
        "nb_classifier.fit(X_train_vectorized, y_train)\n",
        "y_pred = nb_classifier.predict(X_test_vectorized)\n",
        "\n",
        "print(\"Classification Report (ML-based with TF-IDF and trigrams):\")\n",
        "print(classification_report(y_test, y_pred))\n",
        "print(\"Accuracy Score (ML-based with TF-IDF and trigrams):\")\n",
        "print(accuracy_score(y_test, y_pred))"
      ],
      "metadata": {
        "colab": {
          "base_uri": "https://localhost:8080/"
        },
        "id": "oneLzam0sv79",
        "outputId": "3aa2d5a4-3b4f-41a8-c21b-e87598e84234"
      },
      "execution_count": 12,
      "outputs": [
        {
          "output_type": "stream",
          "name": "stdout",
          "text": [
            "Classification Report (ML-based with TF-IDF and trigrams):\n",
            "              precision    recall  f1-score   support\n",
            "\n",
            "         NEG       0.46      0.25      0.32       333\n",
            "     NEUTRAL       0.32      0.05      0.09       170\n",
            "         OBJ       0.70      0.94      0.80      1276\n",
            "         POS       0.43      0.06      0.11       160\n",
            "\n",
            "    accuracy                           0.67      1939\n",
            "   macro avg       0.48      0.33      0.33      1939\n",
            "weighted avg       0.61      0.67      0.60      1939\n",
            "\n",
            "Accuracy Score (ML-based with TF-IDF and trigrams):\n",
            "0.6719958741619392\n"
          ]
        }
      ]
    },
    {
      "cell_type": "markdown",
      "source": [
        "#Rule-Based#"
      ],
      "metadata": {
        "id": "vJF4dbGus8Nh"
      }
    },
    {
      "cell_type": "code",
      "source": [
        "def rule_based_sentiment_analysis(tweet):\n",
        "  positive_keywords = [\n",
        "    'طيب', 'سائر', 'فوز', 'طويل', 'حاضر', 'جيد', 'ممتاز', 'رائع', 'محبوب', 'مرحب',\n",
        "    'مسرور', 'سعيد', 'مبهج', 'ناجح', 'مذهل', 'مثير', 'فخور', 'ملهم', 'جذاب', 'منعش'\n",
        "]\n",
        "  negative_keywords = [\n",
        "    'كريه', 'غائب', 'قصير', 'خسارة', 'بضع', 'سيء', 'مؤلم', 'مزعج', 'خطير', 'ضار',\n",
        "    'محبط', 'بغيض', 'مفجع', 'مرهق', 'مخيف', 'نكد', 'سخيف', 'فاشل', 'ثقيل', 'غاضب'\n",
        "]\n",
        "\n",
        "  tweet = preprocess_tweet(tweet)\n",
        "  if any(word in tweet for word in positive_keywords):\n",
        "        return 'POS'\n",
        "  elif any(word in tweet for word in negative_keywords):\n",
        "        return 'NEG'\n",
        "  else:\n",
        "        return 'NEUTRAL'"
      ],
      "metadata": {
        "id": "4Uu3zuW_s4zr"
      },
      "execution_count": 15,
      "outputs": []
    },
    {
      "cell_type": "code",
      "source": [
        "rule_based_predictions = [rule_based_sentiment_analysis(tweet) for tweet in X_test]\n",
        "y_test_mapped = y_test.replace({'POSITIVE': 'POS', 'NEGATIVE': 'NEG'})\n",
        "correct_predictions = sum(pred == true for pred, true in zip(rule_based_predictions, y_test_mapped))\n",
        "accuracy = correct_predictions / len(y_test)\n",
        "print(f\"Rule-based Accuracy: {accuracy:.2%}\")"
      ],
      "metadata": {
        "colab": {
          "base_uri": "https://localhost:8080/"
        },
        "id": "3uSHn9AFtQYn",
        "outputId": "3ba65cc8-e2d0-45bf-ee01-adfbdfd1069f"
      },
      "execution_count": 16,
      "outputs": [
        {
          "output_type": "stream",
          "name": "stdout",
          "text": [
            "Rule-based Accuracy: 10.01%\n"
          ]
        }
      ]
    },
    {
      "cell_type": "code",
      "source": [
        "example_tweet = \"#سيدنا_النبي كان طيب الرائحة، وإذا صافحه أحد ظل بيده عطره سائر اليوم صلى الله عليك يا سيدي يا رسول الله\"\n",
        "print(f\"Sentiment (ML-based) of example tweet: {nb_classifier.predict(vectorizer.transform([preprocess_tweet(example_tweet)]))[0]}\")\n",
        "print(f\"Sentiment (Rule-based) of example tweet: {rule_based_sentiment_analysis(example_tweet)}\")"
      ],
      "metadata": {
        "colab": {
          "base_uri": "https://localhost:8080/"
        },
        "id": "9kOPsUagtQ5d",
        "outputId": "e195f7a0-40db-4a50-c720-d0b34fc25b2e"
      },
      "execution_count": 17,
      "outputs": [
        {
          "output_type": "stream",
          "name": "stdout",
          "text": [
            "Sentiment (ML-based) of example tweet: POS\n",
            "Sentiment (Rule-based) of example tweet: POS\n"
          ]
        }
      ]
    },
    {
      "cell_type": "code",
      "source": [
        "import random\n",
        "\n",
        "random_index = random.randint(0, len(df) - 1)\n",
        "example_tweet = df.loc[random_index, 'cleaned_tweet']\n",
        "print(\"Selected tweet for analysis:\")\n",
        "print(example_tweet)\n",
        "\n",
        "ml_sentiment = nb_classifier.predict(vectorizer.transform([example_tweet]))[0]\n",
        "rule_based_sentiment = rule_based_sentiment_analysis(example_tweet)\n",
        "\n",
        "print(f\"Sentiment (ML-based) of selected tweet: {ml_sentiment}\")\n",
        "print(f\"Sentiment (Rule-based) of selected tweet: {rule_based_sentiment}\")"
      ],
      "metadata": {
        "colab": {
          "base_uri": "https://localhost:8080/"
        },
        "id": "Q48hYKaQtkIK",
        "outputId": "770b2613-5bb9-4ad2-8165-e04dffc46ded"
      },
      "execution_count": 19,
      "outputs": [
        {
          "output_type": "stream",
          "name": "stdout",
          "text": [
            "Selected tweet for analysis:\n",
            " اللاعبين بعــد هـدف الاعجـوبة في مرمى فيـاريال \n",
            "Sentiment (ML-based) of selected tweet: OBJ\n",
            "Sentiment (Rule-based) of selected tweet: NEUTRAL\n"
          ]
        }
      ]
    },
    {
      "cell_type": "markdown",
      "source": [
        "#Knowledge-based#"
      ],
      "metadata": {
        "id": "6aFb9Q9lwggc"
      }
    },
    {
      "cell_type": "code",
      "source": [
        "sentiment_lexicon = {\n",
        "    'جيد': 1, 'رائع': 2, 'ممتاز': 3,\n",
        "    'سيء': -1, 'فظيع': -2, 'مروع': -3\n",
        "}"
      ],
      "metadata": {
        "id": "B8vnfpGSt3Ip"
      },
      "execution_count": 25,
      "outputs": []
    },
    {
      "cell_type": "code",
      "source": [
        "def knowledge_based_sentiment_analysis(tweet):\n",
        "    words = tweet.split()\n",
        "    sentiment_score = 0\n",
        "    found_words = 0\n",
        "\n",
        "    for word in words:\n",
        "        if word in sentiment_lexicon:\n",
        "            sentiment_score += sentiment_lexicon[word]\n",
        "            found_words += 1\n",
        "\n",
        "    if found_words > 0:\n",
        "        sentiment_score /= found_words\n",
        "\n",
        "    if sentiment_score > 0:\n",
        "        return 'POSITIVE'\n",
        "    elif sentiment_score < 0:\n",
        "        return 'NEGATIVE'\n",
        "    else:\n",
        "        return 'NEUTRAL'"
      ],
      "metadata": {
        "id": "KrHmCofewuGy"
      },
      "execution_count": 26,
      "outputs": []
    },
    {
      "cell_type": "code",
      "source": [
        "# Apply the knowledge-based sentiment analysis to each cleaned tweet\n",
        "df['kb_sentiment'] = df['cleaned_tweet'].apply(knowledge_based_sentiment_analysis)\n",
        "\n",
        "# Display some of the results\n",
        "print(df[['cleaned_tweet', 'Column2', 'kb_sentiment']].head())"
      ],
      "metadata": {
        "colab": {
          "base_uri": "https://localhost:8080/"
        },
        "id": "7aORidHhww5q",
        "outputId": "08e6838e-b39a-427d-efc9-95b0cdc50876"
      },
      "execution_count": 27,
      "outputs": [
        {
          "output_type": "stream",
          "name": "stdout",
          "text": [
            "                                       cleaned_tweet  Column2 kb_sentiment\n",
            "0                    بعد استقالة رئيس ننتظر استقالة       OBJ      NEUTRAL\n",
            "1  أهنئ الدكتور أحمد جمال الدين القيادي بحزب مصر ...      POS      NEUTRAL\n",
            "2  البرادعي يستقوى بامريكا مرةاخرى و يرسل عصام ال...      NEG      NEUTRAL\n",
            "3   شاهد الآن أول فيلم استقصائي يتناول أسرار و كو...      OBJ      NEUTRAL\n",
            "4  الوالدة لو اقولها بخاطري حشيشة تضحك بس من اقول...  NEUTRAL      NEUTRAL\n"
          ]
        }
      ]
    },
    {
      "cell_type": "code",
      "source": [
        "label_mapping = {\n",
        "    'POS': 'POSITIVE',\n",
        "    'NEG': 'NEGATIVE',\n",
        "    'NEUTRAL': 'NEUTRAL',\n",
        "    'OBJ': 'NEUTRAL'\n",
        "}\n",
        "df['mapped_labels'] = df['Column2'].map(label_mapping)\n",
        "\n",
        "correct_predictions = (df['kb_sentiment'] == df['mapped_labels']).sum()\n",
        "total_predictions = len(df)\n",
        "accuracy = correct_predictions / total_predictions\n",
        "print(f\"Knowledge-Based Sentiment Analysis Accuracy: {accuracy:.2%}\")"
      ],
      "metadata": {
        "colab": {
          "base_uri": "https://localhost:8080/"
        },
        "id": "-6VmQZoZw0e8",
        "outputId": "2b11cbbc-02fb-499c-b9cf-5746224224d4"
      },
      "execution_count": 28,
      "outputs": [
        {
          "output_type": "stream",
          "name": "stdout",
          "text": [
            "Knowledge-Based Sentiment Analysis Accuracy: 75.02%\n"
          ]
        }
      ]
    },
    {
      "cell_type": "code",
      "source": [],
      "metadata": {
        "id": "n0wtMYSaw5WU"
      },
      "execution_count": null,
      "outputs": []
    }
  ]
}